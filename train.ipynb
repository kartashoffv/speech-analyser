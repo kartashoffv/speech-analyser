{
 "cells": [
  {
   "cell_type": "code",
   "execution_count": 16,
   "metadata": {},
   "outputs": [
    {
     "name": "stdout",
     "output_type": "stream",
     "text": [
      " ДОПУЩЕНА ОШИБКА\n"
     ]
    }
   ],
   "source": [
    "ans = \" ДОПУЩЕНА ОШИБКА\".upper()\n",
    "if \"ДОПУЩЕНА ОШИБКА\" in ans or \"ВСЕ ВЕРНО\" in ans:\n",
    "    print(ans)\n",
    "else:\n",
    "    print(\"ДИАЛОГ НЕ ОБРАБОТАН\")"
   ]
  },
  {
   "cell_type": "code",
   "execution_count": 15,
   "metadata": {},
   "outputs": [
    {
     "data": {
      "text/plain": [
       "' ДОПУЩЕНА ОШИБКА'"
      ]
     },
     "execution_count": 15,
     "metadata": {},
     "output_type": "execute_result"
    }
   ],
   "source": [
    "\" ДОПУЩЕНА ОШИБКА\".upper()"
   ]
  },
  {
   "cell_type": "code",
   "execution_count": null,
   "metadata": {},
   "outputs": [],
   "source": []
  }
 ],
 "metadata": {
  "kernelspec": {
   "display_name": "venv",
   "language": "python",
   "name": "python3"
  },
  "language_info": {
   "codemirror_mode": {
    "name": "ipython",
    "version": 3
   },
   "file_extension": ".py",
   "mimetype": "text/x-python",
   "name": "python",
   "nbconvert_exporter": "python",
   "pygments_lexer": "ipython3",
   "version": "3.10.13"
  }
 },
 "nbformat": 4,
 "nbformat_minor": 2
}
